{
  "nbformat": 4,
  "nbformat_minor": 0,
  "metadata": {
    "colab": {
      "name": "06MBIG_AG2_DT_SandraZuluaga.ipynb",
      "provenance": []
    },
    "kernelspec": {
      "name": "python3",
      "display_name": "Python 3"
    }
  },
  "cells": [
    {
      "cell_type": "markdown",
      "metadata": {
        "id": "LRcTUX2A7dx7"
      },
      "source": [
        "**OBJETIVO:**Utilizar los datos de la competición de predicción de los datos del Dengue. Para nuestro primer modelo, utilizaremos como base la regresion lineal. Tambien se utilizaran las variables identificadas en la actividad 1 que seran las que potencialmente proporcionarian informacion relevante para hacer las predicciones. Mas información en enlace\n",
        "\n",
        "**Tecnica usada : [DT](https://scikit-learn.org/stable/modules/tree.html)**\n",
        "un método de aprendizaje supervisado no paramétrico utilizado para la clasificación y la regresión. El objetivo es crear un modelo que prediga el valor de una variable de destino mediante el aprendizaje de reglas de decisión simples deducidas de las características de datos."
      ]
    },
    {
      "cell_type": "markdown",
      "metadata": {
        "id": "saLw7jNh734O"
      },
      "source": [
        "ACTUALIZACION DE LIBRERIAS Debido que se realizan diferentes graficos y se invocan las funciones np, sns, files como otros, es necesario bajar cuantas librerias sea necesario para eviar errores la momento de compilacion."
      ]
    },
    {
      "cell_type": "code",
      "metadata": {
        "id": "GuOknXB6WmlJ"
      },
      "source": [
        "import pandas as pd\n",
        "import numpy as np\n",
        "import seaborn as sns\n",
        "import matplotlib.pyplot as plt"
      ],
      "execution_count": null,
      "outputs": []
    },
    {
      "cell_type": "code",
      "metadata": {
        "id": "ZehXS5vuYgmx",
        "outputId": "7a4967ad-eee9-4a30-9753-d9504b576f60",
        "colab": {
          "base_uri": "https://localhost:8080/"
        }
      },
      "source": [
        "from google.colab import drive\n",
        "drive.mount('/content/drive/')"
      ],
      "execution_count": null,
      "outputs": [
        {
          "output_type": "stream",
          "text": [
            "Drive already mounted at /content/drive/; to attempt to forcibly remount, call drive.mount(\"/content/drive/\", force_remount=True).\n"
          ],
          "name": "stdout"
        }
      ]
    },
    {
      "cell_type": "code",
      "metadata": {
        "id": "19VKVfS2YYWG"
      },
      "source": [
        "#Subir el dataset train features\n",
        "features = pd.read_csv('/content/drive/My Drive/dengue_features_train.csv') \n",
        "\n",
        "#Subir el dataset Labels (o etiquetas)\n",
        "labels =pd.read_csv('/content/drive/My Drive/dengue_labels_train.csv') \n",
        "\n",
        "#Subir el dataset training\n",
        "test = pd.read_csv('/content/drive/My Drive/dengue_features_test.csv')\n",
        "\n",
        "#fill NaNs - Eliminacion de Nulls\n",
        "test.fillna(method='ffill', inplace=True)\n",
        "\n",
        "#Eliminacion de Columna innecesaria para test y training (tenemos que alinear para que el array tenga la misma dimension)\n",
        "features.drop(\"week_start_date\", axis = 1, inplace = True)\n",
        "test.drop(\"week_start_date\", axis = 1, inplace = True)"
      ],
      "execution_count": null,
      "outputs": []
    },
    {
      "cell_type": "markdown",
      "metadata": {
        "id": "X-MFjRxEDaTl"
      },
      "source": [
        "Usar el link alternativo de abajo si no tienes los archivos en google drive."
      ]
    },
    {
      "cell_type": "code",
      "metadata": {
        "id": "3OtE8-SmWmlN"
      },
      "source": [
        "#features = pd.read_csv('dengue_features_train.csv')\n",
        "#labels = pd.read_csv('dengue_labels_train.csv')\n",
        "#test = pd.read_csv('dengue_features_test.csv')"
      ],
      "execution_count": null,
      "outputs": []
    },
    {
      "cell_type": "markdown",
      "metadata": {
        "id": "BSB_tQSm8Sk4"
      },
      "source": [
        "**Transformacion de datos:** La transformacion d elos datos estan basadas en la actividad 1. \n",
        "Se comienza con la normalizacion de las temperaturas de K a C."
      ]
    },
    {
      "cell_type": "code",
      "metadata": {
        "id": "Iaqs5MN1LaSW",
        "outputId": "ff651a23-a336-4889-ac46-e7218f92e431",
        "colab": {
          "base_uri": "https://localhost:8080/"
        }
      },
      "source": [
        "temperature_kelvin_columns = [i for i in features.columns if i.find('_temp_k') > -1]\n",
        "temperature_kelvin_columns"
      ],
      "execution_count": null,
      "outputs": [
        {
          "output_type": "execute_result",
          "data": {
            "text/plain": [
              "['reanalysis_air_temp_k',\n",
              " 'reanalysis_avg_temp_k',\n",
              " 'reanalysis_dew_point_temp_k',\n",
              " 'reanalysis_max_air_temp_k',\n",
              " 'reanalysis_min_air_temp_k']"
            ]
          },
          "metadata": {
            "tags": []
          },
          "execution_count": 100
        }
      ]
    },
    {
      "cell_type": "code",
      "metadata": {
        "id": "XFrMsT2Sv4sd"
      },
      "source": [
        "for i in temperature_kelvin_columns:\n",
        "    features[i] =features[i] - 273.15"
      ],
      "execution_count": null,
      "outputs": []
    },
    {
      "cell_type": "code",
      "metadata": {
        "id": "AS9hJrgEoWpB"
      },
      "source": [
        "for i in temperature_kelvin_columns:\n",
        "   test[i] =test[i] - 273.15"
      ],
      "execution_count": null,
      "outputs": []
    },
    {
      "cell_type": "code",
      "metadata": {
        "id": "UAPHIRbNv4YJ"
      },
      "source": [
        "#Renombramos el heading de las columnas de K a C\n",
        "features.columns = [i.replace('_temp_k', '_temp_c') \n",
        "                           for i in features.columns if i.find('_temp_k')]"
      ],
      "execution_count": null,
      "outputs": []
    },
    {
      "cell_type": "code",
      "metadata": {
        "id": "ZXVc7Gdsob8y"
      },
      "source": [
        "#Renombramos el heading de las columnas de K a C\n",
        "test.columns = [i.replace('_temp_k', '_temp_c') \n",
        "                           for i in test.columns if i.find('_temp_k')]"
      ],
      "execution_count": null,
      "outputs": []
    },
    {
      "cell_type": "markdown",
      "metadata": {
        "id": "rDsrvsPmsDaO"
      },
      "source": [
        "En base a la actividad uno y de acuerdo al analisis de correlacion se calculara la mediana de los estaciones para intentar obtener una mejor prediccion.\n",
        "La nueva columna sera llamada 'avg_station_max_min'."
      ]
    },
    {
      "cell_type": "code",
      "metadata": {
        "id": "u7ScS8T9Nj7r",
        "outputId": "dfe8f51b-fccc-4227-ed1d-52656562e06c",
        "colab": {
          "base_uri": "https://localhost:8080/"
        }
      },
      "source": [
        "features['avg_station_max_min'] = (features['station_max_temp_c'] + \n",
        "                                          features['station_min_temp_c']) / 2\n",
        "\n",
        "features['avg_station_max_min'].head()"
      ],
      "execution_count": null,
      "outputs": [
        {
          "output_type": "execute_result",
          "data": {
            "text/plain": [
              "0    24.70\n",
              "1    26.95\n",
              "2    27.50\n",
              "3    28.30\n",
              "4    29.45\n",
              "Name: avg_station_max_min, dtype: float64"
            ]
          },
          "metadata": {
            "tags": []
          },
          "execution_count": 105
        }
      ]
    },
    {
      "cell_type": "markdown",
      "metadata": {
        "id": "8jDJ9DH0sVZi"
      },
      "source": [
        "Realizamos el mismo paso para test:"
      ]
    },
    {
      "cell_type": "code",
      "metadata": {
        "id": "PU6mZy9mJoOh",
        "outputId": "f410faee-f906-4363-d876-80100d10aedb",
        "colab": {
          "base_uri": "https://localhost:8080/"
        }
      },
      "source": [
        "test['avg_station_max_min'] = (test['station_max_temp_c'] + \n",
        "                                          test['station_min_temp_c']) / 2\n",
        "\n",
        "test['avg_station_max_min'].head()"
      ],
      "execution_count": null,
      "outputs": [
        {
          "output_type": "execute_result",
          "data": {
            "text/plain": [
              "0    27.50\n",
              "1    26.10\n",
              "2    27.80\n",
              "3    28.85\n",
              "4    28.30\n",
              "Name: avg_station_max_min, dtype: float64"
            ]
          },
          "metadata": {
            "tags": []
          },
          "execution_count": 106
        }
      ]
    },
    {
      "cell_type": "code",
      "metadata": {
        "id": "GiqpjzJpNm8I",
        "outputId": "00ce7064-3907-4ca4-b063-167cad544f96",
        "colab": {
          "base_uri": "https://localhost:8080/"
        }
      },
      "source": [
        "features['avg_reanalysis_max_min'] = (features['reanalysis_max_air_temp_c'] + \n",
        "                                           features['reanalysis_min_air_temp_c']) / 2\n",
        "\n",
        "features['avg_reanalysis_max_min'].head()"
      ],
      "execution_count": null,
      "outputs": [
        {
          "output_type": "execute_result",
          "data": {
            "text/plain": [
              "0    24.70\n",
              "1    25.50\n",
              "2    25.75\n",
              "3    26.05\n",
              "4    26.55\n",
              "Name: avg_reanalysis_max_min, dtype: float64"
            ]
          },
          "metadata": {
            "tags": []
          },
          "execution_count": 107
        }
      ]
    },
    {
      "cell_type": "markdown",
      "metadata": {
        "id": "qnwnaWhI8bGy"
      },
      "source": [
        "Se aplica un promediado similar para las variables reanalysis_max_air_temp_c' y 'reanalysis_max_air_temp_c'"
      ]
    },
    {
      "cell_type": "code",
      "metadata": {
        "id": "NtCEjKmbwfTY",
        "outputId": "65abd7a1-ca15-4ce7-8d85-35649154cf01",
        "colab": {
          "base_uri": "https://localhost:8080/"
        }
      },
      "source": [
        "test['avg_reanalysis_max_min'] = (test['reanalysis_max_air_temp_c'] + \n",
        "                                           test['reanalysis_min_air_temp_c']) / 2\n",
        "\n",
        "test['avg_reanalysis_max_min'].head()"
      ],
      "execution_count": null,
      "outputs": [
        {
          "output_type": "execute_result",
          "data": {
            "text/plain": [
              "0    25.60\n",
              "1    25.60\n",
              "2    26.15\n",
              "3    26.80\n",
              "4    26.65\n",
              "Name: avg_reanalysis_max_min, dtype: float64"
            ]
          },
          "metadata": {
            "tags": []
          },
          "execution_count": 108
        }
      ]
    },
    {
      "cell_type": "code",
      "metadata": {
        "id": "9Yb5TI6KZOZ6",
        "outputId": "caa1f2ce-d0aa-45ed-df17-cbf46358a333",
        "colab": {
          "base_uri": "https://localhost:8080/",
          "height": 100
        }
      },
      "source": [
        "features.head(1)"
      ],
      "execution_count": null,
      "outputs": [
        {
          "output_type": "execute_result",
          "data": {
            "text/html": [
              "<div>\n",
              "<style scoped>\n",
              "    .dataframe tbody tr th:only-of-type {\n",
              "        vertical-align: middle;\n",
              "    }\n",
              "\n",
              "    .dataframe tbody tr th {\n",
              "        vertical-align: top;\n",
              "    }\n",
              "\n",
              "    .dataframe thead th {\n",
              "        text-align: right;\n",
              "    }\n",
              "</style>\n",
              "<table border=\"1\" class=\"dataframe\">\n",
              "  <thead>\n",
              "    <tr style=\"text-align: right;\">\n",
              "      <th></th>\n",
              "      <th>city</th>\n",
              "      <th>year</th>\n",
              "      <th>weekofyear</th>\n",
              "      <th>ndvi_ne</th>\n",
              "      <th>ndvi_nw</th>\n",
              "      <th>ndvi_se</th>\n",
              "      <th>ndvi_sw</th>\n",
              "      <th>precipitation_amt_mm</th>\n",
              "      <th>reanalysis_air_temp_c</th>\n",
              "      <th>reanalysis_avg_temp_c</th>\n",
              "      <th>reanalysis_dew_point_temp_c</th>\n",
              "      <th>reanalysis_max_air_temp_c</th>\n",
              "      <th>reanalysis_min_air_temp_c</th>\n",
              "      <th>reanalysis_precip_amt_kg_per_m2</th>\n",
              "      <th>reanalysis_relative_humidity_percent</th>\n",
              "      <th>reanalysis_sat_precip_amt_mm</th>\n",
              "      <th>reanalysis_specific_humidity_g_per_kg</th>\n",
              "      <th>reanalysis_tdtr_k</th>\n",
              "      <th>station_avg_temp_c</th>\n",
              "      <th>station_diur_temp_rng_c</th>\n",
              "      <th>station_max_temp_c</th>\n",
              "      <th>station_min_temp_c</th>\n",
              "      <th>station_precip_mm</th>\n",
              "      <th>avg_station_max_min</th>\n",
              "      <th>avg_reanalysis_max_min</th>\n",
              "    </tr>\n",
              "  </thead>\n",
              "  <tbody>\n",
              "    <tr>\n",
              "      <th>0</th>\n",
              "      <td>sj</td>\n",
              "      <td>1990</td>\n",
              "      <td>18</td>\n",
              "      <td>0.1226</td>\n",
              "      <td>0.103725</td>\n",
              "      <td>0.198483</td>\n",
              "      <td>0.177617</td>\n",
              "      <td>12.42</td>\n",
              "      <td>24.422857</td>\n",
              "      <td>24.592857</td>\n",
              "      <td>19.264286</td>\n",
              "      <td>26.65</td>\n",
              "      <td>22.75</td>\n",
              "      <td>32.0</td>\n",
              "      <td>73.365714</td>\n",
              "      <td>12.42</td>\n",
              "      <td>14.012857</td>\n",
              "      <td>2.628571</td>\n",
              "      <td>25.442857</td>\n",
              "      <td>6.9</td>\n",
              "      <td>29.4</td>\n",
              "      <td>20.0</td>\n",
              "      <td>16.0</td>\n",
              "      <td>24.7</td>\n",
              "      <td>24.7</td>\n",
              "    </tr>\n",
              "  </tbody>\n",
              "</table>\n",
              "</div>"
            ],
            "text/plain": [
              "  city  year  ...  avg_station_max_min  avg_reanalysis_max_min\n",
              "0   sj  1990  ...                 24.7                    24.7\n",
              "\n",
              "[1 rows x 25 columns]"
            ]
          },
          "metadata": {
            "tags": []
          },
          "execution_count": 109
        }
      ]
    },
    {
      "cell_type": "markdown",
      "metadata": {
        "id": "i9-5yq4x8pAa"
      },
      "source": [
        "Dividimos los dataframe para separlos de las ciudades pertinentes **'SJ' y 'IQ'**"
      ]
    },
    {
      "cell_type": "code",
      "metadata": {
        "id": "MDK-WnoWWmlQ",
        "outputId": "54138c0e-d2b2-4bb1-9c93-9259cd0f754b",
        "colab": {
          "base_uri": "https://localhost:8080/"
        }
      },
      "source": [
        "X_train_sj = features.loc[features.city=='sj'].copy()\n",
        "y_train_sj = labels.loc[labels.city=='sj'].copy()\n",
        "\n",
        "X_train_iq = features.loc[features.city=='iq'].copy()\n",
        "y_train_iq = labels.loc[labels.city=='iq'].copy()\n",
        "\n",
        "test_sj_ = test.loc[test.city=='sj'].copy()\n",
        "test_iq_ = test.loc[test.city=='iq'].copy()\n",
        "X_test_sj=  test_sj_.copy()\n",
        "X_test_iq = test_iq_.copy()\n",
        "\n",
        "\n",
        "print('features: ', X_train_sj.shape)\n",
        "print('labels  : ', y_train_sj.shape)\n",
        "\n",
        "print('\\nIquitos')\n",
        "print('features: ',X_train_iq.shape)\n",
        "print('labels  : ', y_train_iq.shape)"
      ],
      "execution_count": null,
      "outputs": [
        {
          "output_type": "stream",
          "text": [
            "features:  (936, 25)\n",
            "labels  :  (936, 4)\n",
            "\n",
            "Iquitos\n",
            "features:  (520, 25)\n",
            "labels  :  (520, 4)\n"
          ],
          "name": "stdout"
        }
      ]
    },
    {
      "cell_type": "code",
      "metadata": {
        "id": "0c_EnJvmWmlS"
      },
      "source": [
        "X_train_sj['total_cases'] = y_train_sj['total_cases']\n",
        "X_train_iq['total_cases'] = y_train_iq['total_cases']\n"
      ],
      "execution_count": null,
      "outputs": []
    },
    {
      "cell_type": "markdown",
      "metadata": {
        "id": "dbFdSrAl9wiM"
      },
      "source": [
        "Se asegura que no existan NaNs en las variables. Y se convierten correspondinte mente."
      ]
    },
    {
      "cell_type": "code",
      "metadata": {
        "id": "dy0R7qLZWmlU"
      },
      "source": [
        "X_train_sj.fillna(method='bfill', inplace=True)\n",
        "X_train_iq.fillna(method='bfill', inplace=True)\n",
        "X_test_sj.fillna(method='bfill', inplace=True)\n",
        "X_test_iq.fillna(method='bfill', inplace=True)"
      ],
      "execution_count": null,
      "outputs": []
    },
    {
      "cell_type": "code",
      "metadata": {
        "id": "tCMfxjKRWmlW"
      },
      "source": [
        "features = ['total_cases', 'reanalysis_specific_humidity_g_per_kg', 'reanalysis_dew_point_temp_c', 'reanalysis_relative_humidity_percent', 'avg_station_max_min', 'avg_reanalysis_max_min']"
      ],
      "execution_count": null,
      "outputs": []
    },
    {
      "cell_type": "code",
      "metadata": {
        "id": "PR2VVVRwWmlY"
      },
      "source": [
        "X_train_sj = X_train_sj[features].copy()\n",
        "X_train_iq = X_train_iq[features].copy()\n",
        "X_test_sj = X_test_sj[features[1:]].copy()\n",
        "X_test_iq = X_test_iq[features[1:]].copy()"
      ],
      "execution_count": null,
      "outputs": []
    },
    {
      "cell_type": "markdown",
      "metadata": {
        "id": "HV0Xf5oiAYli"
      },
      "source": [
        "Verificamos la correlacion entre las variables seleccionadas con respecto al numero de casos."
      ]
    },
    {
      "cell_type": "code",
      "metadata": {
        "id": "rTvgeZjXAE1s",
        "outputId": "d97fdb3a-89a1-4e08-b828-8938d7d25219",
        "colab": {
          "base_uri": "https://localhost:8080/",
          "height": 298
        }
      },
      "source": [
        "sj_correlations = X_train_sj.corr()\n",
        "iq_correlations = X_train_iq.corr()\n",
        "(sj_correlations['total_cases'].drop('total_cases').sort_values(ascending=False).plot.barh())\n",
        "plt.title('Correlations for San Juan')"
      ],
      "execution_count": null,
      "outputs": [
        {
          "output_type": "execute_result",
          "data": {
            "text/plain": [
              "Text(0.5, 1.0, 'Correlations for San Juan')"
            ]
          },
          "metadata": {
            "tags": []
          },
          "execution_count": 115
        },
        {
          "output_type": "display_data",
          "data": {
            "image/png": "[encoded data removed]",
            "text/plain": [
              "<Figure size 432x288 with 1 Axes>"
            ]
          },
          "metadata": {
            "tags": [],
            "needs_background": "light"
          }
        }
      ]
    },
    {
      "cell_type": "markdown",
      "metadata": {
        "id": "CPCnvxhHAp9z"
      },
      "source": [
        "El siguiente Plot nos da mas infomracion de acuerdo al ano y semenas que se presentan mas casos. Con esta informacion podriamos descartar algunos timeseries or anos en donde las predicciones no aportan mucha infomacion."
      ]
    },
    {
      "cell_type": "code",
      "metadata": {
        "id": "16GkOx2sAj8Q",
        "outputId": "729354ba-0a2c-4c08-e46b-014cd5df4cd2",
        "colab": {
          "base_uri": "https://localhost:8080/",
          "height": 336
        }
      },
      "source": [
        "for i in set(y_train_sj['year']):\n",
        "    df = y_train_sj[y_train_sj['year'] == i]\n",
        "    df.set_index('weekofyear', drop = True, inplace = True)\n",
        "    plt.plot(df['total_cases'], alpha = .3)\n",
        "    \n",
        "y_train_sj.groupby('weekofyear')['total_cases'].mean().plot(c = 'k', figsize = (10,4))\n",
        "plt.legend(set(y_train_sj['year']), loc='center left', bbox_to_anchor=(1, .5))\n",
        "\n",
        "plt.title('Number of Cases per Week in San Juan, Puerto Rico')\n",
        "plt.xlabel('Week of the Year')\n",
        "plt.ylabel('Number of Cases')"
      ],
      "execution_count": null,
      "outputs": [
        {
          "output_type": "execute_result",
          "data": {
            "text/plain": [
              "Text(0, 0.5, 'Number of Cases')"
            ]
          },
          "metadata": {
            "tags": []
          },
          "execution_count": 116
        },
        {
          "output_type": "display_data",
          "data": {
            "image/png": "[encoded data removed]",
            "text/plain": [
              "<Figure size 720x288 with 1 Axes>"
            ]
          },
          "metadata": {
            "tags": [],
            "needs_background": "light"
          }
        }
      ]
    },
    {
      "cell_type": "markdown",
      "metadata": {
        "id": "8XUMUdfE8_d7"
      },
      "source": [
        "Se ejecuta el split (division de los datos para training y test). Se deja por defecto el tamano de test de 0.33"
      ]
    },
    {
      "cell_type": "markdown",
      "metadata": {
        "id": "OZBvA4Blhy-Q"
      },
      "source": [
        "MODELO SOBRE EL CONJUNTO DE TRAINING"
      ]
    },
    {
      "cell_type": "code",
      "metadata": {
        "id": "qB7yYSyZGLzf"
      },
      "source": [
        "#1.1 Model Parametrization  \n",
        "# criterion: mse mean squared error, which is equal to variance reduction as feature selection criterion\n",
        "#splitter: best/random\n",
        "# max_depth: low value avoid overfitting\n",
        "from sklearn.tree import DecisionTreeRegressor\n",
        "regressorsj = DecisionTreeRegressor(criterion='mae', max_depth=10, random_state=0)"
      ],
      "execution_count": null,
      "outputs": []
    },
    {
      "cell_type": "code",
      "metadata": {
        "id": "QqKlyoqtnHhw",
        "outputId": "cc814406-2d68-4ad6-f630-d94f2ba59990",
        "colab": {
          "base_uri": "https://localhost:8080/",
          "height": 367
        }
      },
      "source": [
        "from sklearn import tree\n",
        "tree.plot_tree(regressorsj)"
      ],
      "execution_count": null,
      "outputs": [
        {
          "output_type": "execute_result",
          "data": {
            "text/plain": [
              "[Text(167.4, 181.2, 'X[0] <= 16.145\\nmse = 2637.225\\nsamples = 936\\nvalue = 34.181'),\n",
              " Text(83.7, 108.72, 'X[2] <= 81.286\\nmse = 404.507\\nsamples = 362\\nvalue = 20.199'),\n",
              " Text(41.85, 36.23999999999998, 'mse = 360.081\\nsamples = 345\\nvalue = 19.194'),\n",
              " Text(125.55000000000001, 36.23999999999998, 'mse = 869.889\\nsamples = 17\\nvalue = 40.588'),\n",
              " Text(251.10000000000002, 108.72, 'X[0] <= 19.001\\nmse = 3844.277\\nsamples = 574\\nvalue = 42.998'),\n",
              " Text(209.25, 36.23999999999998, 'mse = 3698.137\\nsamples = 566\\nvalue = 41.924'),\n",
              " Text(292.95, 36.23999999999998, 'mse = 8325.75\\nsamples = 8\\nvalue = 119.0')]"
            ]
          },
          "metadata": {
            "tags": []
          },
          "execution_count": 138
        },
        {
          "output_type": "display_data",
          "data": {
            "image/png": "[encoded data removed]",
            "text/plain": [
              "<Figure size 432x288 with 1 Axes>"
            ]
          },
          "metadata": {
            "tags": [],
            "needs_background": "light"
          }
        }
      ]
    },
    {
      "cell_type": "code",
      "metadata": {
        "id": "rzvQx-eKGllo",
        "outputId": "05a23260-642e-4c08-9c34-3bb5851af9a2",
        "colab": {
          "base_uri": "https://localhost:8080/"
        }
      },
      "source": [
        "#1.1.1 Model construction IQ\n",
        "regressorsj.fit(X_train_sj[['total_cases', 'reanalysis_specific_humidity_g_per_kg', 'reanalysis_dew_point_temp_c', 'reanalysis_relative_humidity_percent', 'avg_station_max_min', 'avg_reanalysis_max_min']], X_train_sj['total_cases'])"
      ],
      "execution_count": null,
      "outputs": [
        {
          "output_type": "execute_result",
          "data": {
            "text/plain": [
              "DecisionTreeRegressor(ccp_alpha=0.0, criterion='mae', max_depth=10,\n",
              "                      max_features=None, max_leaf_nodes=None,\n",
              "                      min_impurity_decrease=0.0, min_impurity_split=None,\n",
              "                      min_samples_leaf=1, min_samples_split=2,\n",
              "                      min_weight_fraction_leaf=0.0, presort='deprecated',\n",
              "                      random_state=0, splitter='best')"
            ]
          },
          "metadata": {
            "tags": []
          },
          "execution_count": 118
        }
      ]
    },
    {
      "cell_type": "code",
      "metadata": {
        "id": "zsQJhy70HbJv",
        "outputId": "0598bba3-b73b-4f3a-92ae-2afb3f21c7bc",
        "colab": {
          "base_uri": "https://localhost:8080/",
          "height": 252
        }
      },
      "source": [
        "#1..1.2 Model construction SJ\n",
        "regressorsj.fit(X_train_sj[['total_cases', 'reanalysis_specific_humidity_g_per_kg', 'reanalysis_dew_point_temp_c', 'reanalysis_relative_humidity_percent', 'avg_station_max_min', 'avg_reanalysis_max_min']], X_train_sj['total_cases'])\n",
        "\n",
        "print ('Feature Relevances')\n",
        "pd.DataFrame({'Attributes': features ,\n",
        "              'Decision Tree': regressorsj.feature_importances_})"
      ],
      "execution_count": null,
      "outputs": [
        {
          "output_type": "stream",
          "text": [
            "Feature Relevances\n"
          ],
          "name": "stdout"
        },
        {
          "output_type": "execute_result",
          "data": {
            "text/html": [
              "<div>\n",
              "<style scoped>\n",
              "    .dataframe tbody tr th:only-of-type {\n",
              "        vertical-align: middle;\n",
              "    }\n",
              "\n",
              "    .dataframe tbody tr th {\n",
              "        vertical-align: top;\n",
              "    }\n",
              "\n",
              "    .dataframe thead th {\n",
              "        text-align: right;\n",
              "    }\n",
              "</style>\n",
              "<table border=\"1\" class=\"dataframe\">\n",
              "  <thead>\n",
              "    <tr style=\"text-align: right;\">\n",
              "      <th></th>\n",
              "      <th>Attributes</th>\n",
              "      <th>Decision Tree</th>\n",
              "    </tr>\n",
              "  </thead>\n",
              "  <tbody>\n",
              "    <tr>\n",
              "      <th>0</th>\n",
              "      <td>total_cases</td>\n",
              "      <td>0.992693</td>\n",
              "    </tr>\n",
              "    <tr>\n",
              "      <th>1</th>\n",
              "      <td>reanalysis_specific_humidity_g_per_kg</td>\n",
              "      <td>0.000778</td>\n",
              "    </tr>\n",
              "    <tr>\n",
              "      <th>2</th>\n",
              "      <td>reanalysis_dew_point_temp_c</td>\n",
              "      <td>0.001729</td>\n",
              "    </tr>\n",
              "    <tr>\n",
              "      <th>3</th>\n",
              "      <td>reanalysis_relative_humidity_percent</td>\n",
              "      <td>0.003459</td>\n",
              "    </tr>\n",
              "    <tr>\n",
              "      <th>4</th>\n",
              "      <td>avg_station_max_min</td>\n",
              "      <td>0.000130</td>\n",
              "    </tr>\n",
              "    <tr>\n",
              "      <th>5</th>\n",
              "      <td>avg_reanalysis_max_min</td>\n",
              "      <td>0.001211</td>\n",
              "    </tr>\n",
              "  </tbody>\n",
              "</table>\n",
              "</div>"
            ],
            "text/plain": [
              "                              Attributes  Decision Tree\n",
              "0                            total_cases       0.992693\n",
              "1  reanalysis_specific_humidity_g_per_kg       0.000778\n",
              "2            reanalysis_dew_point_temp_c       0.001729\n",
              "3   reanalysis_relative_humidity_percent       0.003459\n",
              "4                    avg_station_max_min       0.000130\n",
              "5                 avg_reanalysis_max_min       0.001211"
            ]
          },
          "metadata": {
            "tags": []
          },
          "execution_count": 119
        }
      ]
    },
    {
      "cell_type": "code",
      "metadata": {
        "id": "eJqYSfo0QUf1"
      },
      "source": [
        "#1.1.2 Model Parametrization \n",
        "# criterion: mse mean squared error, which is equal to variance reduction as feature selection criterion\n",
        "#splitter: best/random\n",
        "# max_depth: low value avoid overfitting\n",
        "from sklearn.tree import DecisionTreeRegressor\n",
        "regressoriq = DecisionTreeRegressor(criterion='mae', max_depth=10, random_state=0)"
      ],
      "execution_count": null,
      "outputs": []
    },
    {
      "cell_type": "code",
      "metadata": {
        "id": "37OzwKhCnOSs",
        "outputId": "ef3a1ea0-44ee-47cd-84a7-0ad64898921a",
        "colab": {
          "base_uri": "https://localhost:8080/",
          "height": 367
        }
      },
      "source": [
        "from sklearn import tree\n",
        "tree.plot_tree(regressoriq)"
      ],
      "execution_count": null,
      "outputs": [
        {
          "output_type": "execute_result",
          "data": {
            "text/plain": [
              "[Text(167.4, 181.2, 'X[0] <= 17.708\\nmse = 115.673\\nsamples = 520\\nvalue = 7.565'),\n",
              " Text(83.7, 108.72, 'X[3] <= 27.675\\nmse = 68.299\\nsamples = 305\\nvalue = 5.249'),\n",
              " Text(41.85, 36.23999999999998, 'mse = 37.828\\nsamples = 188\\nvalue = 3.867'),\n",
              " Text(125.55000000000001, 36.23999999999998, 'mse = 109.258\\nsamples = 117\\nvalue = 7.47'),\n",
              " Text(251.10000000000002, 108.72, 'X[4] <= 28.325\\nmse = 164.471\\nsamples = 215\\nvalue = 10.851'),\n",
              " Text(209.25, 36.23999999999998, 'mse = 190.87\\nsamples = 176\\nvalue = 11.699'),\n",
              " Text(292.95, 36.23999999999998, 'mse = 27.461\\nsamples = 39\\nvalue = 7.026')]"
            ]
          },
          "metadata": {
            "tags": []
          },
          "execution_count": 139
        },
        {
          "output_type": "display_data",
          "data": {
            "image/png": "[encoded data removed]",
            "text/plain": [
              "<Figure size 432x288 with 1 Axes>"
            ]
          },
          "metadata": {
            "tags": [],
            "needs_background": "light"
          }
        }
      ]
    },
    {
      "cell_type": "code",
      "metadata": {
        "id": "iQ6xSlLrQljh",
        "outputId": "ce588fda-8e5e-4f4d-f482-479331ad07f3",
        "colab": {
          "base_uri": "https://localhost:8080/"
        }
      },
      "source": [
        "#1.1.3 Model construction IQ\n",
        "regressoriq.fit(X_train_iq[['total_cases', 'reanalysis_specific_humidity_g_per_kg', 'reanalysis_dew_point_temp_c', 'reanalysis_relative_humidity_percent', 'avg_station_max_min', 'avg_reanalysis_max_min']], X_train_iq['total_cases'])"
      ],
      "execution_count": null,
      "outputs": [
        {
          "output_type": "execute_result",
          "data": {
            "text/plain": [
              "DecisionTreeRegressor(ccp_alpha=0.0, criterion='mae', max_depth=10,\n",
              "                      max_features=None, max_leaf_nodes=None,\n",
              "                      min_impurity_decrease=0.0, min_impurity_split=None,\n",
              "                      min_samples_leaf=1, min_samples_split=2,\n",
              "                      min_weight_fraction_leaf=0.0, presort='deprecated',\n",
              "                      random_state=0, splitter='best')"
            ]
          },
          "metadata": {
            "tags": []
          },
          "execution_count": 121
        }
      ]
    },
    {
      "cell_type": "code",
      "metadata": {
        "id": "pcVPufzDQCvm",
        "outputId": "0ebde97e-fb19-4aa7-c380-811b5bc6935d",
        "colab": {
          "base_uri": "https://localhost:8080/",
          "height": 252
        }
      },
      "source": [
        "#1.2 Model construction IQ\n",
        "regressoriq.fit(X_train_iq[['total_cases', 'reanalysis_specific_humidity_g_per_kg', 'reanalysis_dew_point_temp_c', 'reanalysis_relative_humidity_percent', 'avg_station_max_min', 'avg_reanalysis_max_min']], X_train_iq['total_cases'])\n",
        "\n",
        "print ('Feature Relevances')\n",
        "pd.DataFrame({'Attributes': features ,\n",
        "              'Decision Tree': regressoriq.feature_importances_})"
      ],
      "execution_count": null,
      "outputs": [
        {
          "output_type": "stream",
          "text": [
            "Feature Relevances\n"
          ],
          "name": "stdout"
        },
        {
          "output_type": "execute_result",
          "data": {
            "text/html": [
              "<div>\n",
              "<style scoped>\n",
              "    .dataframe tbody tr th:only-of-type {\n",
              "        vertical-align: middle;\n",
              "    }\n",
              "\n",
              "    .dataframe tbody tr th {\n",
              "        vertical-align: top;\n",
              "    }\n",
              "\n",
              "    .dataframe thead th {\n",
              "        text-align: right;\n",
              "    }\n",
              "</style>\n",
              "<table border=\"1\" class=\"dataframe\">\n",
              "  <thead>\n",
              "    <tr style=\"text-align: right;\">\n",
              "      <th></th>\n",
              "      <th>Attributes</th>\n",
              "      <th>Decision Tree</th>\n",
              "    </tr>\n",
              "  </thead>\n",
              "  <tbody>\n",
              "    <tr>\n",
              "      <th>0</th>\n",
              "      <td>total_cases</td>\n",
              "      <td>0.977432</td>\n",
              "    </tr>\n",
              "    <tr>\n",
              "      <th>1</th>\n",
              "      <td>reanalysis_specific_humidity_g_per_kg</td>\n",
              "      <td>0.002543</td>\n",
              "    </tr>\n",
              "    <tr>\n",
              "      <th>2</th>\n",
              "      <td>reanalysis_dew_point_temp_c</td>\n",
              "      <td>0.001589</td>\n",
              "    </tr>\n",
              "    <tr>\n",
              "      <th>3</th>\n",
              "      <td>reanalysis_relative_humidity_percent</td>\n",
              "      <td>0.000318</td>\n",
              "    </tr>\n",
              "    <tr>\n",
              "      <th>4</th>\n",
              "      <td>avg_station_max_min</td>\n",
              "      <td>0.017800</td>\n",
              "    </tr>\n",
              "    <tr>\n",
              "      <th>5</th>\n",
              "      <td>avg_reanalysis_max_min</td>\n",
              "      <td>0.000318</td>\n",
              "    </tr>\n",
              "  </tbody>\n",
              "</table>\n",
              "</div>"
            ],
            "text/plain": [
              "                              Attributes  Decision Tree\n",
              "0                            total_cases       0.977432\n",
              "1  reanalysis_specific_humidity_g_per_kg       0.002543\n",
              "2            reanalysis_dew_point_temp_c       0.001589\n",
              "3   reanalysis_relative_humidity_percent       0.000318\n",
              "4                    avg_station_max_min       0.017800\n",
              "5                 avg_reanalysis_max_min       0.000318"
            ]
          },
          "metadata": {
            "tags": []
          },
          "execution_count": 122
        }
      ]
    },
    {
      "cell_type": "code",
      "metadata": {
        "id": "fqAgYv0WICJ5",
        "outputId": "1bb3f658-db3d-41a3-e868-cf07ad2ac531",
        "colab": {
          "base_uri": "https://localhost:8080/",
          "height": 280
        }
      },
      "source": [
        "# Compute the max \n",
        "mae = []\n",
        "from sklearn.metrics import mean_absolute_error\n",
        "for i in range(2, 50):\n",
        "    regressorsj = DecisionTreeRegressor(max_depth=i)\n",
        "    regressorsj.fit(X_train_sj[['total_cases','reanalysis_specific_humidity_g_per_kg', 'reanalysis_dew_point_temp_c', 'reanalysis_relative_humidity_percent', 'avg_station_max_min', 'avg_reanalysis_max_min']], X_train_sj['total_cases'])\n",
        "    pred_values = regressorsj.predict(X_train_sj[['total_cases','reanalysis_specific_humidity_g_per_kg', 'reanalysis_dew_point_temp_c', 'reanalysis_relative_humidity_percent', 'avg_station_max_min', 'avg_reanalysis_max_min']])\n",
        "    maev = mean_absolute_error(X_train_sj['total_cases'],pred_values)\n",
        "    mae.append(maev)\n",
        "    \n",
        "# Plot mae   \n",
        "plt.plot(range(2,50), mae, marker='o')\n",
        "plt.xlabel('max_depth')\n",
        "plt.ylabel('mae')\n",
        "plt.show()"
      ],
      "execution_count": null,
      "outputs": [
        {
          "output_type": "display_data",
          "data": {
            "image/png": "[encoded data removed]",
            "text/plain": [
              "<Figure size 432x288 with 1 Axes>"
            ]
          },
          "metadata": {
            "tags": [],
            "needs_background": "light"
          }
        }
      ]
    },
    {
      "cell_type": "code",
      "metadata": {
        "id": "PO8goKNHdsS_",
        "outputId": "a456b187-162c-4395-e0bd-3e4f052c0469",
        "colab": {
          "base_uri": "https://localhost:8080/",
          "height": 297
        }
      },
      "source": [
        "#Compute the max \n",
        "mae = []\n",
        "from sklearn.metrics import mean_absolute_error\n",
        "for i in range(2, 50):\n",
        "    regressoriq = DecisionTreeRegressor(max_depth=i)\n",
        "    regressoriq.fit(X_train_iq[['total_cases','reanalysis_specific_humidity_g_per_kg', 'reanalysis_dew_point_temp_c', 'reanalysis_relative_humidity_percent', 'avg_station_max_min', 'avg_reanalysis_max_min']], X_train_iq['total_cases'])\n",
        "    pred_values = regressoriq.predict(X_train_iq[['total_cases','reanalysis_specific_humidity_g_per_kg', 'reanalysis_dew_point_temp_c', 'reanalysis_relative_humidity_percent', 'avg_station_max_min', 'avg_reanalysis_max_min']])\n",
        "    maev = mean_absolute_error(X_train_iq['total_cases'],pred_values)\n",
        "    mae.append(maev)\n",
        "    \n",
        "# Plot mae   \n",
        "plt.plot(range(2,50), mae, marker='o')\n",
        "plt.xlabel('max_depth')\n",
        "plt.ylabel('mae')"
      ],
      "execution_count": null,
      "outputs": [
        {
          "output_type": "execute_result",
          "data": {
            "text/plain": [
              "Text(0, 0.5, 'mae')"
            ]
          },
          "metadata": {
            "tags": []
          },
          "execution_count": 124
        },
        {
          "output_type": "display_data",
          "data": {
            "image/png": "[encoded data removed]",
            "text/plain": [
              "<Figure size 432x288 with 1 Axes>"
            ]
          },
          "metadata": {
            "tags": [],
            "needs_background": "light"
          }
        }
      ]
    },
    {
      "cell_type": "code",
      "metadata": {
        "id": "LXopiPyHJEEe",
        "outputId": "66dc9acc-c189-45ea-d187-cdaea7a941a3",
        "colab": {
          "base_uri": "https://localhost:8080/",
          "height": 336
        }
      },
      "source": [
        "# CROSS VALIDATION ANALYSIS\n",
        "from sklearn.metrics import mean_absolute_error\n",
        "\n",
        "from sklearn.model_selection import KFold\n",
        "cv = KFold(n_splits = 10, shuffle = False, random_state=0) # \n",
        "\n",
        "# reset index\n",
        "X_train_sj.reset_index(drop = True, inplace = True)\n",
        "X_train_sj.head()\n",
        "\n",
        "total_scores = []\n",
        "for i in range(2, 50):\n",
        "   regressor = DecisionTreeRegressor(max_depth=i)\n",
        "   fold_accuracy = []\n",
        "   for train_fold, test_fold in cv.split(X_train_sj):\n",
        "      # División train test aleatoria\n",
        "      f_train = X_train_sj.loc[train_fold]\n",
        "      f_test = X_train_sj.loc[test_fold]\n",
        "      # entrenamiento y ejecución del modelo\n",
        "      regressor.fit( X = f_train.drop(['total_cases'], axis=1), \n",
        "                           y = f_train['total_cases'])\n",
        "      y_pred = regressor.predict(X = f_test.drop(['total_cases'], axis = 1))\n",
        "      # evaluación del modelo\n",
        "      mae = mean_absolute_error(f_test['total_cases'], y_pred)\n",
        "      fold_accuracy.append(mae)\n",
        "   total_scores.append(sum(fold_accuracy)/len(fold_accuracy))\n",
        "\n",
        "\n",
        "max_depth = np.argmin(total_scores) + 2\n",
        "print ('Min Value ' + str(min(total_scores)) +\" (\" + str(max_depth) + \")\")\n",
        "\n",
        "  \n",
        "plt.plot(range(1,len(total_scores)+1), total_scores, \n",
        "         marker='o')\n",
        "plt.ylabel('MAE')   \n",
        "\n",
        "plt.show() \n",
        "\n"
      ],
      "execution_count": null,
      "outputs": [
        {
          "output_type": "stream",
          "text": [
            "/usr/local/lib/python3.6/dist-packages/sklearn/model_selection/_split.py:296: FutureWarning: Setting a random_state has no effect since shuffle is False. This will raise an error in 0.24. You should leave random_state to its default (None), or set shuffle=True.\n",
            "  FutureWarning\n"
          ],
          "name": "stderr"
        },
        {
          "output_type": "stream",
          "text": [
            "Min Value 30.12095554795811 (2)\n"
          ],
          "name": "stdout"
        },
        {
          "output_type": "display_data",
          "data": {
            "image/png": "[encoded data removed]",
            "text/plain": [
              "<Figure size 432x288 with 1 Axes>"
            ]
          },
          "metadata": {
            "tags": [],
            "needs_background": "light"
          }
        }
      ]
    },
    {
      "cell_type": "code",
      "metadata": {
        "id": "tOQPPGd0MbyK",
        "outputId": "a7b0ffd3-2c09-4abf-f912-44a4c1455b77",
        "colab": {
          "base_uri": "https://localhost:8080/",
          "height": 336
        }
      },
      "source": [
        "# CROSS VALIDATION ANALYSIS\n",
        "from sklearn.metrics import mean_absolute_error\n",
        "\n",
        "from sklearn.model_selection import KFold\n",
        "cv = KFold(n_splits = 10, shuffle = False, random_state=0) # \n",
        "\n",
        "# reset index\n",
        "X_train_iq.reset_index(drop = True, inplace = True)\n",
        "X_train_iq.head()\n",
        "\n",
        "total_scores = []\n",
        "for i in range(2, 50):\n",
        "   regressor = DecisionTreeRegressor(max_depth=i)\n",
        "   fold_accuracy = []\n",
        "   for train_fold, test_fold in cv.split(X_train_iq):\n",
        "      # División train test aleatoria\n",
        "      f_train = X_train_iq.loc[train_fold]\n",
        "      f_test = X_train_iq.loc[test_fold]\n",
        "      # entrenamiento y ejecución del modelo\n",
        "      regressor.fit( X = f_train.drop(['total_cases'], axis=1), \n",
        "                           y = f_train['total_cases'])\n",
        "      y_pred = regressor.predict(X = f_test.drop(['total_cases'], axis = 1))\n",
        "      # evaluación del modelo\n",
        "      mae = mean_absolute_error(f_test['total_cases'], y_pred)\n",
        "      fold_accuracy.append(mae)\n",
        "   total_scores.append(sum(fold_accuracy)/len(fold_accuracy))\n",
        "\n",
        "\n",
        "max_depth = np.argmin(total_scores) + 2\n",
        "print ('Min Value ' + str(min(total_scores)) +\" (\" + str(max_depth) + \")\")\n",
        "\n",
        "  \n",
        "plt.plot(range(1,len(total_scores)+1), total_scores, \n",
        "         marker='o')\n",
        "plt.ylabel('MAE')   \n",
        "\n",
        "plt.show() \n"
      ],
      "execution_count": null,
      "outputs": [
        {
          "output_type": "stream",
          "text": [
            "/usr/local/lib/python3.6/dist-packages/sklearn/model_selection/_split.py:296: FutureWarning: Setting a random_state has no effect since shuffle is False. This will raise an error in 0.24. You should leave random_state to its default (None), or set shuffle=True.\n",
            "  FutureWarning\n"
          ],
          "name": "stderr"
        },
        {
          "output_type": "stream",
          "text": [
            "Min Value 6.76314604056073 (2)\n"
          ],
          "name": "stdout"
        },
        {
          "output_type": "display_data",
          "data": {
            "image/png": "[encoded data removed]",
            "text/plain": [
              "<Figure size 432x288 with 1 Axes>"
            ]
          },
          "metadata": {
            "tags": [],
            "needs_background": "light"
          }
        }
      ]
    },
    {
      "cell_type": "code",
      "metadata": {
        "id": "ycqaP5HoKB_-",
        "outputId": "dc6035ea-2af1-48de-da96-c0edbecc7b84",
        "colab": {
          "base_uri": "https://localhost:8080/"
        }
      },
      "source": [
        "# constructor\n",
        "regressorsj = DecisionTreeRegressor(max_depth = max_depth)\n",
        "# fit and predict\n",
        "X = X_train_sj.drop(['total_cases'], axis=1)\n",
        "y = y_train_sj['total_cases']\n",
        "\n",
        "regressorsj.fit( X, y)\n",
        "y_pred = regressorsj.predict(X)\n",
        "mae = mean_absolute_error(y, y_pred)\n",
        "print ('MAE', mae)\n"
      ],
      "execution_count": null,
      "outputs": [
        {
          "output_type": "stream",
          "text": [
            "MAE 26.893539117550894\n"
          ],
          "name": "stdout"
        }
      ]
    },
    {
      "cell_type": "code",
      "metadata": {
        "id": "pYQUW2bPeWon",
        "outputId": "87840525-9967-439d-c97e-eefdcd62b678",
        "colab": {
          "base_uri": "https://localhost:8080/"
        }
      },
      "source": [
        "# constructor\n",
        "regressoriq = DecisionTreeRegressor(max_depth = max_depth)\n",
        "# fit and predict\n",
        "X = X_train_iq.drop(['total_cases'], axis=1)\n",
        "y = y_train_iq['total_cases']\n",
        "\n",
        "regressoriq.fit( X, y)\n",
        "y_pred = regressoriq.predict(X)\n",
        "mae = mean_absolute_error(y, y_pred)\n",
        "print ('MAE', mae)\n"
      ],
      "execution_count": null,
      "outputs": [
        {
          "output_type": "stream",
          "text": [
            "MAE 6.185832520248437\n"
          ],
          "name": "stdout"
        }
      ]
    },
    {
      "cell_type": "code",
      "metadata": {
        "id": "eGcemff6Pja4"
      },
      "source": [
        "# Prediction for San Juan\n",
        "pred_sj =regressorsj.predict(X_test_sj)"
      ],
      "execution_count": null,
      "outputs": []
    },
    {
      "cell_type": "code",
      "metadata": {
        "id": "oaRhyppkPuDJ"
      },
      "source": [
        "# Prediction para Iq\n",
        "pred_iq =regressoriq.predict(X_test_iq)"
      ],
      "execution_count": null,
      "outputs": []
    },
    {
      "cell_type": "code",
      "metadata": {
        "id": "1jNma1IeP9Te"
      },
      "source": [
        "res_sj = np.rint(pred_sj) # round\n",
        "res_sj = res_sj.astype(int) # cast to int\n",
        "res_iq = np.rint(pred_iq) # round\n",
        "res_iq = res_iq.astype(int) # cast to int"
      ],
      "execution_count": null,
      "outputs": []
    },
    {
      "cell_type": "code",
      "metadata": {
        "id": "3LrW7LJyP9Th",
        "outputId": "d07dc1c5-8ecf-4882-eb4e-d84102129431",
        "colab": {
          "base_uri": "https://localhost:8080/"
        }
      },
      "source": [
        "res_sj.shape"
      ],
      "execution_count": null,
      "outputs": [
        {
          "output_type": "execute_result",
          "data": {
            "text/plain": [
              "(260,)"
            ]
          },
          "metadata": {
            "tags": []
          },
          "execution_count": 132
        }
      ]
    },
    {
      "cell_type": "code",
      "metadata": {
        "id": "f1rdNZPfP9Tk",
        "outputId": "53ea1bd6-7449-4372-abb7-4f579a794633",
        "colab": {
          "base_uri": "https://localhost:8080/"
        }
      },
      "source": [
        "res_iq.shape"
      ],
      "execution_count": null,
      "outputs": [
        {
          "output_type": "execute_result",
          "data": {
            "text/plain": [
              "(156,)"
            ]
          },
          "metadata": {
            "tags": []
          },
          "execution_count": 133
        }
      ]
    },
    {
      "cell_type": "code",
      "metadata": {
        "id": "QBeSbYROP9Tm"
      },
      "source": [
        "output_sj = pd.DataFrame({ 'city': 'sj', 'year': test_sj_['year'], 'weekofyear': test_sj_['weekofyear'], \n",
        "                       'total_cases': res_sj})"
      ],
      "execution_count": null,
      "outputs": []
    },
    {
      "cell_type": "code",
      "metadata": {
        "id": "g3UNyD45P9Tn"
      },
      "source": [
        "output_iq = pd.DataFrame({ 'city': 'iq', 'year': test_iq_['year'], 'weekofyear': test_iq_['weekofyear'], \n",
        "                       'total_cases': res_iq})"
      ],
      "execution_count": null,
      "outputs": []
    },
    {
      "cell_type": "code",
      "metadata": {
        "id": "RW33Yd6xP9Tq"
      },
      "source": [
        "submission=pd.concat([output_sj, output_iq])\n",
        "submission.to_csv('result_DT.csv', index =False)"
      ],
      "execution_count": null,
      "outputs": []
    },
    {
      "cell_type": "code",
      "metadata": {
        "id": "T51jS8f-ffGU",
        "outputId": "7ceae2b3-27d3-482e-fb77-3d238fef608c",
        "colab": {
          "base_uri": "https://localhost:8080/",
          "height": 17
        }
      },
      "source": [
        "from google.colab import files\n",
        "files.download('result_DT.csv')"
      ],
      "execution_count": null,
      "outputs": [
        {
          "output_type": "display_data",
          "data": {
            "application/javascript": [
              "\n",
              "    async function download(id, filename, size) {\n",
              "      if (!google.colab.kernel.accessAllowed) {\n",
              "        return;\n",
              "      }\n",
              "      const div = document.createElement('div');\n",
              "      const label = document.createElement('label');\n",
              "      label.textContent = `Downloading \"${filename}\": `;\n",
              "      div.appendChild(label);\n",
              "      const progress = document.createElement('progress');\n",
              "      progress.max = size;\n",
              "      div.appendChild(progress);\n",
              "      document.body.appendChild(div);\n",
              "\n",
              "      const buffers = [];\n",
              "      let downloaded = 0;\n",
              "\n",
              "      const channel = await google.colab.kernel.comms.open(id);\n",
              "      // Send a message to notify the kernel that we're ready.\n",
              "      channel.send({})\n",
              "\n",
              "      for await (const message of channel.messages) {\n",
              "        // Send a message to notify the kernel that we're ready.\n",
              "        channel.send({})\n",
              "        if (message.buffers) {\n",
              "          for (const buffer of message.buffers) {\n",
              "            buffers.push(buffer);\n",
              "            downloaded += buffer.byteLength;\n",
              "            progress.value = downloaded;\n",
              "          }\n",
              "        }\n",
              "      }\n",
              "      const blob = new Blob(buffers, {type: 'application/binary'});\n",
              "      const a = document.createElement('a');\n",
              "      a.href = window.URL.createObjectURL(blob);\n",
              "      a.download = filename;\n",
              "      div.appendChild(a);\n",
              "      a.click();\n",
              "      div.remove();\n",
              "    }\n",
              "  "
            ],
            "text/plain": [
              "<IPython.core.display.Javascript object>"
            ]
          },
          "metadata": {
            "tags": []
          }
        },
        {
          "output_type": "display_data",
          "data": {
            "application/javascript": [
              "download(\"download_118d1406-587f-47bc-99cb-e0febb0936c2\", \"result_DT.csv\", 5700)"
            ],
            "text/plain": [
              "<IPython.core.display.Javascript object>"
            ]
          },
          "metadata": {
            "tags": []
          }
        }
      ]
    },
    {
      "cell_type": "markdown",
      "metadata": {
        "id": "a6dkkFrCf8DC"
      },
      "source": [
        "![DT_results_model.png](data:image/png;base64,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)"
      ]
    }
  ]
}